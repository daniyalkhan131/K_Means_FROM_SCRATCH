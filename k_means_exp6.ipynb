{
 "cells": [
  {
   "cell_type": "code",
   "execution_count": 4,
   "metadata": {},
   "outputs": [],
   "source": [
    "import random as r\n",
    "dataset=list()\n",
    "\n",
    "for i in range(10):\n",
    "        l=list()\n",
    "        x11,x12=r.randrange(1,50),r.randrange(1,50)\n",
    "        l.append(x11),l.append(x12)\n",
    "        dataset.append(l)\n",
    "for i in range(10):\n",
    "        l=list()\n",
    "        x11,x12=r.randrange(40,90),r.randrange(40,90)\n",
    "        l.append(x11),l.append(x12)\n",
    "        dataset.append(l)"
   ]
  },
  {
   "cell_type": "code",
   "execution_count": 5,
   "metadata": {},
   "outputs": [
    {
     "name": "stdout",
     "output_type": "stream",
     "text": [
      "[[40, 32], [8, 7], [28, 9], [47, 29], [24, 39], [13, 24], [46, 17], [41, 2], [48, 27], [36, 23], [65, 73], [86, 64], [43, 69], [71, 41], [40, 85], [48, 81], [60, 69], [42, 81], [68, 88], [80, 45]]\n"
     ]
    },
    {
     "data": {
      "text/plain": [
       "'c1,c2=0,0\\nfor i in dataset:\\n    c1+=i[0]\\n    c2+=i[1]\\nprint(\"\\n\")\\nfor i in dataset:\\n    i[0]=(i[0]/c1)\\n    i[1]=(i[1]/c2)\\nprint(dataset)'"
      ]
     },
     "execution_count": 5,
     "metadata": {},
     "output_type": "execute_result"
    }
   ],
   "source": [
    "print(dataset)\n",
    "#this is for normalizing the inputs but this normalization donot make the model better so avoid\n",
    "\"\"\"c1,c2=0,0\n",
    "for i in dataset:\n",
    "    c1+=i[0]\n",
    "    c2+=i[1]\n",
    "print(\"\\n\")\n",
    "for i in dataset:\n",
    "    i[0]=(i[0]/c1)\n",
    "    i[1]=(i[1]/c2)\n",
    "print(dataset)\"\"\""
   ]
  },
  {
   "cell_type": "code",
   "execution_count": 6,
   "metadata": {},
   "outputs": [
    {
     "data": {
      "text/plain": [
       "<function matplotlib.pyplot.show(*args, **kw)>"
      ]
     },
     "execution_count": 6,
     "metadata": {},
     "output_type": "execute_result"
    },
    {
     "data": {
      "image/png": "[encoded data removed]",
      "text/plain": [
       "<Figure size 432x288 with 1 Axes>"
      ]
     },
     "metadata": {
      "needs_background": "light"
     },
     "output_type": "display_data"
    }
   ],
   "source": [
    "import matplotlib.pyplot as plt\n",
    "xxx=list()\n",
    "xxy=list()\n",
    "for i in dataset:\n",
    "    xxx.append(i[0])\n",
    "    xxy.append(i[1])\n",
    "\n",
    "plt.plot(xxx,xxy,'bo')\n",
    "plt.show\n",
    " "
   ]
  },
  {
   "cell_type": "code",
   "execution_count": 7,
   "metadata": {},
   "outputs": [],
   "source": [
    "k=3"
   ]
  },
  {
   "cell_type": "code",
   "execution_count": 8,
   "metadata": {},
   "outputs": [],
   "source": [
    "def eucledian1(p1,p2):\n",
    "    sum=0\n",
    "    for i,j in zip(p1,p2):\n",
    "        sum=sum+(i-j)**2\n",
    "    dist=sum**0.5\n",
    "    return dist\n",
    "\n",
    "def Sorting(ds,dist):\n",
    "    for i in range(len(dist)-1):\n",
    "        for j in range(len(dist)-1-i):\n",
    "            if(dist[j]>dist[j+1]):\n",
    "                dist[j],dist[j+1]=dist[j+1],dist[j]\n",
    "                ds[j],ds[j+1]=ds[j+1],ds[j]\n",
    "\n",
    "def minimum(l):\n",
    "    temp_arr=list()\n",
    "    for i in range(len(l)):\n",
    "        temp_arr.append(i)\n",
    "    Sorting(temp_arr,l)\n",
    "    return temp_arr[0],l[0]\n",
    "    \n",
    "def centroid(l):\n",
    "    x=0\n",
    "    y=0\n",
    "    ls=list()\n",
    "    for i in l:\n",
    "        x=x+i[0]\n",
    "        y=y+i[1]\n",
    "    ls.append(x/len(l))\n",
    "    ls.append(y/len(l))\n",
    "    return ls"
   ]
  },
  {
   "cell_type": "code",
   "execution_count": 9,
   "metadata": {},
   "outputs": [
    {
     "name": "stdout",
     "output_type": "stream",
     "text": [
      "initial centroids \t\n",
      "[[46, 17], [68, 88], [60, 69]]\n",
      "\n",
      "\n",
      "\n",
      "\n",
      "euclidean distance from centroid\n",
      "[[16.15549442140351, 62.609903369994115, 42.05948168962618], [39.293765408777, 100.80178569846865, 80.91971329657564], [19.697715603592208, 88.54942122905152, 68.0], [12.041594578792296, 62.625873247404705, 42.05948168962618], [31.11269837220809, 65.85590330410783, 46.861498055439924], [33.734255586866, 84.38601779915912, 65.06919393998976], [0.0, 74.33034373659252, 53.85164807134504], [15.811388300841896, 90.13878188659973, 69.6419413859206], [10.198039027185569, 64.19501538281614, 43.68065933568311], [11.661903789690601, 72.44998274671983, 51.884487084291386], [59.135437767890075, 15.297058540778355, 6.4031242374328485], [61.71709649683789, 30.0, 26.476404589747453], [52.08646657242167, 31.400636936215164, 17.0], [34.655446902326915, 47.095647357266465, 30.083217912982647], [68.26419266350405, 28.160255680657446, 25.612496949731394], [64.03124237432849, 21.18962010041709, 16.97056274847714], [53.85164807134504, 20.615528128088304, 0.0], [64.1248781675256, 26.92582403567252, 21.633307652783937], [74.33034373659252, 0.0, 20.615528128088304], [44.04543109109048, 44.64302857109943, 31.240998703626616]]\n",
      "\n",
      "\n",
      "which cluster it belongs\n",
      "[[0, 16.15549442140351], [0, 39.293765408777], [0, 19.697715603592208], [0, 12.041594578792296], [0, 31.11269837220809], [0, 33.734255586866], [0, 0.0], [0, 15.811388300841896], [0, 10.198039027185569], [0, 11.661903789690601], [2, 6.4031242374328485], [2, 26.476404589747453], [2, 17.0], [2, 30.083217912982647], [2, 25.612496949731394], [2, 16.97056274847714], [2, 0.0], [2, 21.633307652783937], [1, 0.0], [2, 31.240998703626616]]\n",
      "\n",
      "\n",
      "clusters formed\n",
      "[[[40, 32], [8, 7], [28, 9], [47, 29], [24, 39], [13, 24], [46, 17], [41, 2], [48, 27], [36, 23]], [[68, 88]], [[65, 73], [86, 64], [43, 69], [71, 41], [40, 85], [48, 81], [60, 69], [42, 81], [80, 45]]]\n",
      "\n",
      "\n",
      "updated k centroids\n",
      "[[33.1, 20.9], [68.0, 88.0], [59.44444444444444, 67.55555555555556]]\n",
      "\n",
      "\n",
      "\n",
      "\n",
      "euclidean distance from centroid\n",
      "[[13.06981254647518, 62.609903369994115, 40.525102721859746], [28.691810678310283, 100.80178569846865, 79.45757467252261], [12.946814279968644, 88.54942122905152, 66.46432255608649], [16.087883639559305, 62.625873247404705, 40.51413409821806], [20.25882523741197, 65.85590330410783, 45.5162432002217], [20.337649815059756, 84.38601779915912, 63.67238678977075], [13.476646467129719, 74.33034373659252, 52.31268760014741], [20.48462838325362, 90.13878188659973, 68.10086926803305], [16.100310556011024, 64.19501538281614, 42.139392438213065], [3.5805027579936306, 72.44998274671983, 50.347189655161884], [61.09026108963687, 15.297058540778355, 7.778571388083172], [68.23503498936599, 30.0, 26.792527058357887], [49.10824777977728, 31.400636936215164, 16.507760988077884], [42.90011654995823, 47.095647357266465, 28.96080791452007], [64.47030324110473, 28.160255680657446, 26.122692467056204], [61.919463821967966, 21.18962010041709, 17.655831757856333], [55.110978942493844, 20.615528128088304, 1.5475986974649012], [60.75541128162989, 26.92582403567252, 22.024116971971015], [75.6334582046861, 0.0, 22.16241953186007], [52.72968803245473, 44.64302857109943, 30.51694530285238]]\n",
      "\n",
      "\n",
      "which cluster it belongs\n",
      "[[0, 13.06981254647518], [0, 28.691810678310283], [0, 12.946814279968644], [0, 16.087883639559305], [0, 20.25882523741197], [0, 20.337649815059756], [0, 13.476646467129719], [0, 20.48462838325362], [0, 16.100310556011024], [0, 3.5805027579936306], [2, 7.778571388083172], [2, 26.792527058357887], [2, 16.507760988077884], [2, 28.96080791452007], [2, 26.122692467056204], [2, 17.655831757856333], [2, 1.5475986974649012], [2, 22.024116971971015], [1, 0.0], [2, 30.51694530285238]]\n",
      "\n",
      "\n",
      "clusters formed\n",
      "[[[40, 32], [8, 7], [28, 9], [47, 29], [24, 39], [13, 24], [46, 17], [41, 2], [48, 27], [36, 23]], [[68, 88]], [[65, 73], [86, 64], [43, 69], [71, 41], [40, 85], [48, 81], [60, 69], [42, 81], [80, 45]]]\n",
      "\n",
      "\n",
      "updated k centroids\n",
      "[[33.1, 20.9], [68.0, 88.0], [59.44444444444444, 67.55555555555556]]\n"
     ]
    }
   ],
   "source": [
    "k1=list()\n",
    "k2=list()\n",
    "k_list=list()\n",
    "\n",
    "for i in range(k):\n",
    "    slct=r.randrange(0,len(dataset))\n",
    "    k_list.append(dataset[slct])\n",
    "print(\"initial centroids \\t\")\n",
    "print(k_list)    \n",
    "k2=k_list\n",
    "for i in range(len(k_list)):\n",
    "    k1.append(i)\n",
    "while(k1!=k2):\n",
    "    print(\"\\n\")\n",
    "    print(\"\\n\")\n",
    "    k1=k2\n",
    "    lclus=list()\n",
    "    for i in dataset:\n",
    "        ll=list()\n",
    "        for j in k_list:\n",
    "            ll.append(eucledian1(i,j))\n",
    "        lclus.append(ll)\n",
    "    \n",
    "    print(\"euclidean distance from centroid\")    \n",
    "    print(lclus)\n",
    "    lll=list()\n",
    "    for i in lclus:\n",
    "        llll=list()\n",
    "        index,dist=minimum(i)\n",
    "        llll.append(index) \n",
    "        llll.append(dist)\n",
    "        lll.append(llll)\n",
    "    print(\"\\n\")\n",
    "    print(\"which cluster it belongs\")\n",
    "    print(lll)\n",
    "    \n",
    "    list_clus=list()\n",
    "    for i in range(k):\n",
    "        k_list=list()\n",
    "        for j in range(len(dataset)):\n",
    "            if i==lll[j][0]:\n",
    "                k_list.append(dataset[j])\n",
    "        list_clus.append(k_list)\n",
    "    print(\"\\n\")\n",
    "    print(\"clusters formed\")\n",
    "    print(list_clus)\n",
    "    k_list=list()\n",
    "    \n",
    "    for i in list_clus:\n",
    "        k_list.append(centroid(i))\n",
    "    print(\"\\n\")\n",
    "    print(\"updated k centroids\")\n",
    "    print(k_list)\n",
    "    k2=k_list"
   ]
  },
  {
   "cell_type": "code",
   "execution_count": 10,
   "metadata": {},
   "outputs": [
    {
     "data": {
      "text/plain": [
       "[[[40, 32],\n",
       "  [8, 7],\n",
       "  [28, 9],\n",
       "  [47, 29],\n",
       "  [24, 39],\n",
       "  [13, 24],\n",
       "  [46, 17],\n",
       "  [41, 2],\n",
       "  [48, 27],\n",
       "  [36, 23]],\n",
       " [[68, 88]],\n",
       " [[65, 73],\n",
       "  [86, 64],\n",
       "  [43, 69],\n",
       "  [71, 41],\n",
       "  [40, 85],\n",
       "  [48, 81],\n",
       "  [60, 69],\n",
       "  [42, 81],\n",
       "  [80, 45]]]"
      ]
     },
     "execution_count": 10,
     "metadata": {},
     "output_type": "execute_result"
    }
   ],
   "source": [
    "list_clus"
   ]
  },
  {
   "cell_type": "markdown",
   "metadata": {},
   "source": [
    "# this is for ploting but it can plot upto 4 clusters so avoid it, if i get time i will improve this and make ploting work for k clusters"
   ]
  },
  {
   "cell_type": "code",
   "execution_count": 11,
   "metadata": {},
   "outputs": [],
   "source": [
    "k_list\n",
    "\n",
    "xk=list()\n",
    "yk=list()\n",
    "for t in k_list:\n",
    "    xk.append(t[0])\n",
    "    yk.append(t[1])"
   ]
  },
  {
   "cell_type": "code",
   "execution_count": 12,
   "metadata": {},
   "outputs": [
    {
     "data": {
      "text/plain": [
       "[<matplotlib.lines.Line2D at 0x20cc9f9cbb0>]"
      ]
     },
     "execution_count": 12,
     "metadata": {},
     "output_type": "execute_result"
    },
    {
     "data": {
      "image/png": "[encoded data removed]",
      "text/plain": [
       "<Figure size 432x288 with 1 Axes>"
      ]
     },
     "metadata": {
      "needs_background": "light"
     },
     "output_type": "display_data"
    }
   ],
   "source": [
    "for i in range(k):\n",
    "    xxx=list()\n",
    "    xxy=list()\n",
    "    for j in list_clus[i]:\n",
    "        xxx.append(j[0])\n",
    "        xxy.append(j[1])\n",
    "    if(i==0):\n",
    "        plt.plot(xxx,xxy,'ro')\n",
    "        \n",
    "    if(i==1):\n",
    "        plt.plot(xxx,xxy,'bo')\n",
    "    \n",
    "    if(i==2):\n",
    "        plt.plot(xxx,xxy,'go')\n",
    "    if(i==3):\n",
    "        plt.plot(xxx,xxy,'yo')\n",
    "plt.plot(xk,yk,'mx')"
   ]
  }
 ],
 "metadata": {
  "kernelspec": {
   "display_name": "Python 3",
   "language": "python",
   "name": "python3"
  },
  "language_info": {
   "codemirror_mode": {
    "name": "ipython",
    "version": 3
   },
   "file_extension": ".py",
   "mimetype": "text/x-python",
   "name": "python",
   "nbconvert_exporter": "python",
   "pygments_lexer": "ipython3",
   "version": "3.8.3"
  }
 },
 "nbformat": 4,
 "nbformat_minor": 4
}
